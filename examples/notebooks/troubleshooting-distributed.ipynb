{
 "cells": [
  {
   "cell_type": "markdown",
   "metadata": {},
   "source": [
    "# F.A.Q / Troubleshooting - Distributed Training"
   ]
  },
  {
   "cell_type": "markdown",
   "metadata": {},
   "source": [
    "```\n",
    "# Copyright 2019 Amazon.com, Inc. or its affiliates. All Rights Reserved.\n",
    "#\n",
    "#   Licensed under the Apache License, Version 2.0 (the \"License\").\n",
    "#   You may not use this file except in compliance with the License.\n",
    "#   A copy of the License is located at\n",
    "#\n",
    "#       http://www.apache.org/licenses/LICENSE-2.0\n",
    "#\n",
    "#   or in the \"license\" file accompanying this file. This file is distributed\n",
    "#   on an \"AS IS\" BASIS, WITHOUT WARRANTIES OR CONDITIONS OF ANY KIND, either\n",
    "#   express or implied. See the License for the specific language governing\n",
    "#   permissions and limitations under the License.\n",
    "# ==============================================================================\n",
    "```"
   ]
  },
  {
   "cell_type": "markdown",
   "metadata": {},
   "source": [
    "The following lists are the frequent problems and troubleshoot in regarding to running distributed training with Horovod and executing MXFusion's code in GPU.  "
   ]
  },
  {
   "cell_type": "markdown",
   "metadata": {},
   "source": [
    "## ValueError while executing <tt>horovodrun</tt>"
   ]
  },
  {
   "cell_type": "markdown",
   "metadata": {},
   "source": [
    "### Problem"
   ]
  },
  {
   "cell_type": "markdown",
   "metadata": {},
   "source": [
    "After recently installed Horovod in the machine, the following error may occur when executing the code with <tt>horovodrun</tt> on terminal:"
   ]
  },
  {
   "cell_type": "markdown",
   "metadata": {},
   "source": [
    "<b>ValueError: Neither MPI nor Gloo support has been built. Try reinstalling Horovod ensuring that either MPI is installed (MPI) or CMake is installed (Gloo).</b>"
   ]
  },
  {
   "cell_type": "markdown",
   "metadata": {},
   "source": [
    "### Steps to Reproduce"
   ]
  },
  {
   "cell_type": "markdown",
   "metadata": {},
   "source": [
    "After installing <tt>Horovod</tt> with <b>pip install horovod==0.16.4</b>, execute a MXFusion distributed training script with <b>horovodrun -np {number_of_processors} -H localhost:4 python {python_script}</b>"
   ]
  },
  {
   "cell_type": "markdown",
   "metadata": {},
   "source": [
    "### Solution"
   ]
  },
  {
   "cell_type": "markdown",
   "metadata": {},
   "source": [
    "Use <tt>mpirun</tt> instead of <tt>horovodrun</tt>. For example on terminal, type :"
   ]
  },
  {
   "cell_type": "markdown",
   "metadata": {},
   "source": [
    "<b>mpirun -np {number_of_processors} -H localhost:4 python {python_script}</b>"
   ]
  },
  {
   "cell_type": "markdown",
   "metadata": {},
   "source": [
    "## Warning of <tt>CMA Support</tt> Not Available"
   ]
  },
  {
   "cell_type": "markdown",
   "metadata": {},
   "source": [
    "### Problem"
   ]
  },
  {
   "cell_type": "markdown",
   "metadata": {},
   "source": [
    "When first executing MXFusion with Horovod every time Ubuntu boots, the ptrace protection from Ubuntu blocks CMA support from being enabled, which then does not allow shared memory between processors. A warning will be shown in the terminal :"
   ]
  },
  {
   "cell_type": "markdown",
   "metadata": {},
   "source": [
    "<b>\n",
    "Linux kernel CMA support was requested via the\n",
    "btl_vader_single_copy_mechanism MCA variable, but CMA support is\n",
    "not available due to restrictive ptrace settings.\n",
    "</b>"
   ]
  },
  {
   "cell_type": "markdown",
   "metadata": {},
   "source": [
    "### Steps to Reproduce"
   ]
  },
  {
   "cell_type": "markdown",
   "metadata": {},
   "source": [
    "After Ubuntu boots, execute a MXFusion distributed training script with mpirun -np {number_of_processors} -H localhost:4 python {python_script}"
   ]
  },
  {
   "cell_type": "markdown",
   "metadata": {},
   "source": [
    "### Solution"
   ]
  },
  {
   "cell_type": "markdown",
   "metadata": {},
   "source": [
    "Temporarily disable ptrace protection by typing the line below on the terminal. Note that you may need to reenable it back with <tt>echo 1</tt> after stopped using Horovod for security measures. Also note that <tt>ptrace_scope</tt> will be resetted to 1 every time Ubuntu boots. To disable ptrace protection, on terminal type :"
   ]
  },
  {
   "cell_type": "markdown",
   "metadata": {},
   "source": [
    "<b>echo 0 | sudo tee /proc/sys/kernel/yama/ptrace_scope</b>"
   ]
  },
  {
   "cell_type": "markdown",
   "metadata": {},
   "source": [
    "## Segmentation fault : 11 with <tt>MXNet-cu100</tt>"
   ]
  },
  {
   "cell_type": "markdown",
   "metadata": {},
   "source": [
    "### Problem"
   ]
  },
  {
   "cell_type": "markdown",
   "metadata": {},
   "source": [
    "When executing MXFusion on GPU, error of <b>Segmentation fault : 11</b> will be thrown if <tt>MXNet-cu100</tt> is installed."
   ]
  },
  {
   "cell_type": "markdown",
   "metadata": {},
   "source": [
    "### Steps to Reproduce"
   ]
  },
  {
   "cell_type": "markdown",
   "metadata": {},
   "source": [
    "Install <tt>MXNet-cu100</tt> with <b>pip install mxnet-cu100</b> on <tt>Deep Learning AMI (Ubuntu) Version 24.1 (ami-06f483a626f873983)</tt>. Run a MXFusion distributed training script with <b>mpirun -np {number_of_processors} -H localhost:4 python {python_script}</b>."
   ]
  },
  {
   "cell_type": "markdown",
   "metadata": {},
   "source": [
    "### Solution"
   ]
  },
  {
   "cell_type": "markdown",
   "metadata": {},
   "source": [
    "Uninstall <tt>MXNet-cu100</tt> with and install <tt>MXNet-cu100mkl</tt>. On terminal, type :"
   ]
  },
  {
   "cell_type": "markdown",
   "metadata": {},
   "source": [
    "<b>\n",
    "    pip uninstall mxnet-cu100<br>\n",
    "    pip install mxnet-cu100mkl\n",
    "</b>"
   ]
  },
  {
   "cell_type": "markdown",
   "metadata": {},
   "source": [
    "## Segmentation fault : 11 with latest version of <tt>Horovod</tt>"
   ]
  },
  {
   "cell_type": "markdown",
   "metadata": {},
   "source": [
    "### Problem"
   ]
  },
  {
   "cell_type": "markdown",
   "metadata": {},
   "source": [
    "MXFusion currently does not support <tt>Horovod</tt> version 18 and above. With latest version of <tt>Horovod</tt>, when running <tt>MXFusion</tt> distributed training on CPU, the loss function and output will be inaccurate and inconsistent between processors. When running <tt>MXFusion</tt> distributed training on GPU, <b>Segmentation fault : 11</b> error will be thrown."
   ]
  },
  {
   "cell_type": "markdown",
   "metadata": {},
   "source": [
    "### Steps to Reproduce"
   ]
  },
  {
   "cell_type": "markdown",
   "metadata": {},
   "source": [
    "Install <tt>Horovod</tt> with <b>pip install horovod</b>. Run a distributed training script with <b>mpirun -np {number_of_processors} -H localhost:4 python {python_script}</b>."
   ]
  },
  {
   "cell_type": "markdown",
   "metadata": {},
   "source": [
    "### Solution"
   ]
  },
  {
   "cell_type": "markdown",
   "metadata": {},
   "source": [
    "Currently MXFusion supports <tt>Horovod</tt> below version 18. Install the latest version of <tt>MXFusion</tt> before version 18 with :"
   ]
  },
  {
   "cell_type": "markdown",
   "metadata": {},
   "source": [
    "<b>pip install horovod==0.16.4</b>"
   ]
  },
  {
   "cell_type": "markdown",
   "metadata": {},
   "source": [
    "## Error with dtype='float64' on GPU"
   ]
  },
  {
   "cell_type": "markdown",
   "metadata": {},
   "source": [
    "### Problem"
   ]
  },
  {
   "cell_type": "markdown",
   "metadata": {},
   "source": [
    "When setting <tt>float64</tt> as the data type and run the script on GPU, this error may occur :"
   ]
  },
  {
   "cell_type": "markdown",
   "metadata": {},
   "source": [
    "<b>mxnet.base.MXNetError: src/ndarray/ndarray_function.cu:58: Check failed: to->type_flag_ == from.type_flag_ (1 vs. 0) : Source and target must have the same data type when copying across devices.</b>"
   ]
  },
  {
   "cell_type": "markdown",
   "metadata": {},
   "source": [
    "### Steps to Reproduce"
   ]
  },
  {
   "cell_type": "markdown",
   "metadata": {},
   "source": [
    "In a GPU, change the value of <tt>config.DEFAULT_DTYPE</tt> and dtype of NDArray to <tt>'float64'</tt> in <b>distributed_bnn_test.py</b>. Run the test. The error will occur in <tt>test_BNN_regression</tt> and <tt>test_BNN_regression_minibatch</tt>. In the terminal, from MXFusion source root folder, type :"
   ]
  },
  {
   "cell_type": "markdown",
   "metadata": {},
   "source": [
    "<b>\n",
    "    cd testing/inference<br>\n",
    "    mpirun -np 4 -H localhost:4 pytest -s distributed_bnn_test.py\n",
    "</b>"
   ]
  },
  {
   "cell_type": "markdown",
   "metadata": {},
   "source": [
    "### Solution"
   ]
  },
  {
   "cell_type": "markdown",
   "metadata": {},
   "source": [
    "Set <tt>float32</tt> as the data type. GPU also supports <tt>float32</tt> at better speed than <tt>float64</tt>."
   ]
  }
 ],
 "metadata": {
  "kernelspec": {
   "display_name": "Python 3",
   "language": "python",
   "name": "python3"
  },
  "language_info": {
   "codemirror_mode": {
    "name": "ipython",
    "version": 3
   },
   "file_extension": ".py",
   "mimetype": "text/x-python",
   "name": "python",
   "nbconvert_exporter": "python",
   "pygments_lexer": "ipython3",
   "version": "3.7.3"
  }
 },
 "nbformat": 4,
 "nbformat_minor": 2
}
